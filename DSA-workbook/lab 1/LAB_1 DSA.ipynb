{
 "cells": [
  {
   "cell_type": "code",
   "execution_count": 1,
   "metadata": {},
   "outputs": [],
   "source": [
    "#Memory Management in Python"
   ]
  },
  {
   "cell_type": "code",
   "execution_count": 2,
   "metadata": {},
   "outputs": [
    {
     "name": "stdout",
     "output_type": "stream",
     "text": [
      "140715911320672\n",
      "140715911320672\n"
     ]
    }
   ],
   "source": [
    "a = 10\n",
    "b = 10\n",
    "print(id(a))\n",
    "print(id(b))\n",
    "#in C language variables are considered as a box of storage , but in python everything is an object\n",
    "#if we assign a=10 there will be 10 in memory and a just points to it , then when we assign b=10 b also points to 10 instead of creating another box of memory like in C"
   ]
  },
  {
   "cell_type": "code",
   "execution_count": 4,
   "metadata": {},
   "outputs": [
    {
     "name": "stdout",
     "output_type": "stream",
     "text": [
      "140715911320672 140715911320672 140715911320672\n",
      "140715911320704\n"
     ]
    }
   ],
   "source": [
    "a = 10\n",
    "b = 10\n",
    "c = 10\n",
    "print(id(a),id(b),id(c))\n",
    "a += 1\n",
    "print(id(a)) #now 11 is in memory and a points to it"
   ]
  },
  {
   "cell_type": "code",
   "execution_count": 6,
   "metadata": {},
   "outputs": [
    {
     "name": "stdout",
     "output_type": "stream",
     "text": [
      "2999875658576 2999875658544\n"
     ]
    }
   ],
   "source": [
    "x = 500\n",
    "y = 500\n",
    "print(id(x),id(y))\n",
    "#here we might think that x and y have same ids but it is not the case here, this is due the effect of CPython optimization\n",
    "#CPython Implementation keeps an array of integer objects for all integers between range -5 and 256."
   ]
  },
  {
   "cell_type": "code",
   "execution_count": 7,
   "metadata": {},
   "outputs": [
    {
     "name": "stdout",
     "output_type": "stream",
     "text": [
      "340604965472 340604965472\n",
      "True\n"
     ]
    }
   ],
   "source": [
    "s1 = 'hello'\n",
    "s2 = 'hello'\n",
    "print(id(s1),id(s2))\n",
    "print(s1 is s2)"
   ]
  },
  {
   "cell_type": "code",
   "execution_count": 9,
   "metadata": {},
   "outputs": [
    {
     "name": "stdout",
     "output_type": "stream",
     "text": [
      "340604998000 340604997872\n",
      "False\n"
     ]
    }
   ],
   "source": [
    "s3 = 'hello world!'\n",
    "s4 = 'hello world!'\n",
    "print(id(s3),id(s4)) #both have diff ids\n",
    "print(s3 is s4) #its false \n",
    "#there is a trade-off\n",
    "#when the string is smallers--ids will be same.\n",
    "#but when it reaches certain limit python instead of checking all the strings with the same name, creates new location for that string \n",
    "#but hm sys se intern call kra kr forcefully apply krskty hn interning\n",
    "#interning is runtime dependent"
   ]
  },
  {
   "cell_type": "code",
   "execution_count": 11,
   "metadata": {},
   "outputs": [
    {
     "name": "stdout",
     "output_type": "stream",
     "text": [
      "340585490992 340585490992\n",
      "True\n"
     ]
    }
   ],
   "source": [
    "from sys import intern\n",
    "s3 = intern('hello world!')\n",
    "s4 = intern('hello world!') #this string will be found in intern strings dictionary and then again referencing happen\n",
    "print(id(s3),id(s4))\n",
    "print(s3 is s4)"
   ]
  },
  {
   "cell_type": "code",
   "execution_count": 14,
   "metadata": {},
   "outputs": [],
   "source": [
    "#EXERCISE"
   ]
  },
  {
   "cell_type": "code",
   "execution_count": 19,
   "metadata": {},
   "outputs": [
    {
     "name": "stdout",
     "output_type": "stream",
     "text": [
      "enter the number: 5\n",
      "*\n",
      "140715911320384\n",
      "**\n",
      "140715911320416\n",
      "***\n",
      "140715911320448\n",
      "****\n",
      "140715911320480\n",
      "*****\n",
      "140715911320512\n",
      "*****\n",
      "140715911320224\n",
      "****\n",
      "140715911320256\n",
      "***\n",
      "140715911320288\n",
      "**\n",
      "140715911320320\n",
      "*\n",
      "140715911320352\n"
     ]
    }
   ],
   "source": [
    "#1\n",
    "#Print in triangle\n",
    "x = int(input(\"enter the number: \"))\n",
    "for n in range(0,x):\n",
    "    n += 1\n",
    "    print(\"*\" * (0+n))\n",
    "    print(id(n))\n",
    "for n in range(-x,0):\n",
    "    n += 1\n",
    "    print(\"*\"*(0-n+1))\n",
    "    print(id(n))"
   ]
  },
  {
   "cell_type": "code",
   "execution_count": 10,
   "metadata": {},
   "outputs": [
    {
     "name": "stdout",
     "output_type": "stream",
     "text": [
      "2999875670168\n",
      "2999875671128\n",
      "2999875670088\n",
      "2999875671128\n",
      "2999875670088\n",
      "2999875670168\n",
      "{1: 10, 2: 20, 3: 30, 4: 40, 5: 50, 6: 60}\n",
      "key addresses 140714158694800 value addresses 140714158695088\n",
      "key addresses 140714158694832 value addresses 140714158695408\n",
      "key addresses 140714158694864 value addresses 140714158695728\n",
      "key addresses 140714158694896 value addresses 140714158696048\n",
      "key addresses 140714158694928 value addresses 140714158696368\n",
      "key addresses 140714158694960 value addresses 140714158696688\n"
     ]
    }
   ],
   "source": [
    "dict1 = {1:10,2:20}\n",
    "print(id(dict1))\n",
    "dict2 = {3:30,4:40}\n",
    "print(id(dict2))\n",
    "dict3 = {5:50,6:60}\n",
    "print(id(dict3))\n",
    "dictmy = {}\n",
    "\n",
    "dict2.update(dict3)\n",
    "print(id(dict2))\n",
    "print(id(dict3))\n",
    "dict1.update(dict2)\n",
    "print(id(dict1))\n",
    "print(dict1)\n",
    "\n",
    "for k,v in dict1.items():\n",
    "    print(\"key addresses \" + str(id(k)) + \" value addresses \" + str(id(v)))"
   ]
  },
  {
   "cell_type": "code",
   "execution_count": 25,
   "metadata": {},
   "outputs": [
    {
     "name": "stdout",
     "output_type": "stream",
     "text": [
      "2999874894984\n",
      "2999875426120\n",
      "2999876296264\n"
     ]
    }
   ],
   "source": [
    "#Write Program to remove duplicates from the list. Note down addresses of list before and after the removal of duplicates\n",
    "list1 = [1,2,3,2,3,4]\n",
    "print(id(list1))\n",
    "\n",
    "set1 = set(list1)\n",
    "list1 = list(set1)\n",
    "print(id(list1))"
   ]
  },
  {
   "cell_type": "code",
   "execution_count": 31,
   "metadata": {},
   "outputs": [
    {
     "name": "stdout",
     "output_type": "stream",
     "text": [
      "2999873938504\n",
      "2999874900360\n"
     ]
    }
   ],
   "source": [
    "#Write a python program to count the elements in a list until an element is a tuple. Note down the addresses of the tuples as well as list\n",
    "list1 = [1,2,3,4,(5,6)]\n",
    "tup = (5,6)\n",
    "count = 0\n",
    "for i in list1:\n",
    "    if i != tup:\n",
    "        count += 1\n",
    "\n",
    "print(id(tup))\n",
    "print(id(list1))"
   ]
  },
  {
   "cell_type": "code",
   "execution_count": null,
   "metadata": {},
   "outputs": [],
   "source": []
  }
 ],
 "metadata": {
  "kernelspec": {
   "display_name": "Python 3",
   "language": "python",
   "name": "python3"
  },
  "language_info": {
   "codemirror_mode": {
    "name": "ipython",
    "version": 3
   },
   "file_extension": ".py",
   "mimetype": "text/x-python",
   "name": "python",
   "nbconvert_exporter": "python",
   "pygments_lexer": "ipython3",
   "version": "3.7.4"
  }
 },
 "nbformat": 4,
 "nbformat_minor": 2
}
