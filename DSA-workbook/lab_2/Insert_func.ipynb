{
 "cells": [
  {
   "cell_type": "code",
   "execution_count": 4,
   "metadata": {},
   "outputs": [],
   "source": [
    "import time\n",
    "import timeit"
   ]
  },
  {
   "cell_type": "markdown",
   "metadata": {},
   "source": [
    "Reading part\n",
    "https://medium.com/@meghamohan/mutable-and-immutable-side-of-python-c2145cf72747 \n",
    "https://www.geeksforgeeks.org/timeit-python-examples/ \n",
    "https://github.com/MidhaTahir/-Python-/blob/master/TIME%20module.ipynb"
   ]
  },
  {
   "cell_type": "markdown",
   "metadata": {},
   "source": [
    "ALGO A2.1 : ins(data,pos)"
   ]
  },
  {
   "cell_type": "markdown",
   "metadata": {},
   "source": [
    "Implement Algo in the form of function.Compare the implemented function with built-in function available for list data structure in terms of execution time. Hint: Use timeit module"
   ]
  },
  {
   "cell_type": "code",
   "execution_count": 7,
   "metadata": {},
   "outputs": [
    {
     "name": "stdout",
     "output_type": "stream",
     "text": [
      "Enter list 1 2 3\n",
      "Enter Position at which you wanna insert: 1\n",
      "Enter number you wanna insert: 5\n",
      "[1, 5, 2, 3]\n",
      "The time required for my function: 0.001999378204345703\n"
     ]
    }
   ],
   "source": [
    "#using time module\n",
    "def ins(lst,data,pos):\n",
    "    list1 = lst[0:pos]\n",
    "    list2 = lst[pos:]\n",
    "    list1.append(data)\n",
    "    list1 += list2\n",
    "    print(list1)\n",
    "\n",
    "\n",
    "lst = list(map(int,input(\"Enter list \").strip().split()))\n",
    "pos = int(input(\"Enter Position at which you wanna insert: \"))\n",
    "data = int(input(\"Enter number you wanna insert: \"))\n",
    "assert pos <= len(lst), \"Position must be less than or equal to original list\"\n",
    "initial = time.time()\n",
    "ins(lst,data,pos)\n",
    "time1 = time.time()-initial\n",
    "print(f\"The time required for my function: {time1}\")"
   ]
  },
  {
   "cell_type": "code",
   "execution_count": 14,
   "metadata": {},
   "outputs": [
    {
     "name": "stdout",
     "output_type": "stream",
     "text": [
      "Enter list 1 2 3\n",
      "Enter Position at which you wanna insert: 1\n",
      "Enter number you wanna insert: 5\n",
      "0.0020263000000113607\n"
     ]
    }
   ],
   "source": [
    "# importing the required module timeit\n",
    "import timeit \n",
    "  \n",
    "# code snippet to be executed only once \n",
    "mysetup = \"\"\"lst = list(map(int,input(\"Enter list \").strip().split()))\n",
    "pos = int(input(\"Enter Position at which you wanna insert: \"))\n",
    "data = int(input(\"Enter number you wanna insert: \"))\n",
    "assert pos <= len(lst), \"Position must be less than or equal to original list\"\n",
    "\"\"\"\n",
    "  \n",
    "# code snippet whose execution time is to be measured \n",
    "mycode = ''' \n",
    "def ins(lst,data,pos):\n",
    "    list1 = lst[0:pos]\n",
    "    list2 = lst[pos:]\n",
    "    list1.append(data)\n",
    "    list1 += list2\n",
    "    print(list1)\n",
    "'''\n",
    "  \n",
    "# timeit statement \n",
    "print(timeit.timeit(setup = mysetup, \n",
    "                    stmt = mycode, \n",
    "                    number = 10000))"
   ]
  },
  {
   "cell_type": "code",
   "execution_count": 8,
   "metadata": {},
   "outputs": [
    {
     "name": "stdout",
     "output_type": "stream",
     "text": [
      "Enter list 1 2 3\n",
      "Enter Position at which you wanna insert: 1\n",
      "Enter number you wanna insert: 5\n",
      "[1, 5, 2, 3]\n",
      "The time required for builtin function: 0.0009992122650146484\n"
     ]
    }
   ],
   "source": [
    "#with built-in function \n",
    "#using time module\n",
    "\n",
    "lst = list(map(int,input(\"Enter list \").strip().split()))\n",
    "pos = int(input(\"Enter Position at which you wanna insert: \"))\n",
    "data = int(input(\"Enter number you wanna insert: \"))\n",
    "initial = time.time()\n",
    "lst.insert(pos,data)\n",
    "print(lst)\n",
    "time2 = time.time()-initial\n",
    "print(f\"The time required for builtin function: {time2}\")"
   ]
  },
  {
   "cell_type": "code",
   "execution_count": 15,
   "metadata": {},
   "outputs": [
    {
     "name": "stdout",
     "output_type": "stream",
     "text": [
      "Enter list 1 2 3\n",
      "Enter Position at which you wanna insert: 1\n",
      "Enter number you wanna insert: 5\n",
      "0.04790030000003753\n"
     ]
    }
   ],
   "source": [
    "# importing the required module timeit\n",
    "import timeit \n",
    "  \n",
    "# code snippet to be executed only once \n",
    "mysetup = \"\"\"lst = list(map(int,input(\"Enter list \").strip().split()))\n",
    "pos = int(input(\"Enter Position at which you wanna insert: \"))\n",
    "data = int(input(\"Enter number you wanna insert: \"))\n",
    "\"\"\"\n",
    "  \n",
    "# code snippet whose execution time is to be measured \n",
    "mycode = ''' \n",
    "lst.insert(pos,data)\n",
    "'''\n",
    "  \n",
    "# timeit statement \n",
    "print(timeit.timeit(setup = mysetup, \n",
    "                    stmt = mycode, \n",
    "                    number = 10000))"
   ]
  },
  {
   "cell_type": "code",
   "execution_count": 18,
   "metadata": {},
   "outputs": [],
   "source": [
    "time_of_my_func = 0.0020263000000113607\n",
    "time_of_builtin_func = 0.04790030000003753"
   ]
  },
  {
   "cell_type": "code",
   "execution_count": 19,
   "metadata": {},
   "outputs": [
    {
     "data": {
      "text/plain": [
       "True"
      ]
     },
     "execution_count": 19,
     "metadata": {},
     "output_type": "execute_result"
    }
   ],
   "source": [
    "time_of_my_func < time_of_builtin_func"
   ]
  },
  {
   "cell_type": "code",
   "execution_count": null,
   "metadata": {},
   "outputs": [],
   "source": []
  }
 ],
 "metadata": {
  "kernelspec": {
   "display_name": "Python 3",
   "language": "python",
   "name": "python3"
  },
  "language_info": {
   "codemirror_mode": {
    "name": "ipython",
    "version": 3
   },
   "file_extension": ".py",
   "mimetype": "text/x-python",
   "name": "python",
   "nbconvert_exporter": "python",
   "pygments_lexer": "ipython3",
   "version": "3.7.4"
  }
 },
 "nbformat": 4,
 "nbformat_minor": 2
}
