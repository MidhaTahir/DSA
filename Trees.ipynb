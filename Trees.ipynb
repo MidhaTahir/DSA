{
  "nbformat": 4,
  "nbformat_minor": 0,
  "metadata": {
    "colab": {
      "name": "Trees.ipynb",
      "provenance": [],
      "collapsed_sections": [],
      "authorship_tag": "ABX9TyOIXrBkblBq1VfzOpImoiP8",
      "include_colab_link": true
    },
    "kernelspec": {
      "name": "python3",
      "display_name": "Python 3"
    }
  },
  "cells": [
    {
      "cell_type": "markdown",
      "metadata": {
        "id": "view-in-github",
        "colab_type": "text"
      },
      "source": [
        "<a href=\"https://colab.research.google.com/github/MidhaTahir/DataStructures_Algorithms/blob/master/Trees.ipynb\" target=\"_parent\"><img src=\"https://colab.research.google.com/assets/colab-badge.svg\" alt=\"Open In Colab\"/></a>"
      ]
    },
    {
      "cell_type": "code",
      "metadata": {
        "id": "pRHXgSrgZ8tH",
        "colab_type": "code",
        "colab": {}
      },
      "source": [
        "class Expr:\n",
        "  pass"
      ],
      "execution_count": 12,
      "outputs": []
    },
    {
      "cell_type": "code",
      "metadata": {
        "id": "GTtVRMjWk-3n",
        "colab_type": "code",
        "colab": {}
      },
      "source": [
        "class Exponent(Expr):\n",
        "  def __init__(self,b,e):\n",
        "    self.b = b\n",
        "    self.e = e\n",
        "  def __str__(self):\n",
        "    return \"(\" + str(self.b) + \"^\" + str(self.e) + \")\"\n",
        "  def eval(self,env):\n",
        "    return self.b.eval(env) ** self.e.eval(env)"
      ],
      "execution_count": 47,
      "outputs": []
    },
    {
      "cell_type": "code",
      "metadata": {
        "id": "jL-WmWwJk-99",
        "colab_type": "code",
        "colab": {}
      },
      "source": [
        "class Minus(Expr):\n",
        "  def __init__(self,l,r):\n",
        "    self.l = l\n",
        "    self.r = r\n",
        "  def __str__(self):\n",
        "    return \"(\" + str(self.l) + \"-\" + str(self.r) + \")\"\n",
        "  def eval(self,env):\n",
        "    return self.l.eval(env) - self.r.eval(env)"
      ],
      "execution_count": 48,
      "outputs": []
    },
    {
      "cell_type": "code",
      "metadata": {
        "id": "ZeIks9ahlfjC",
        "colab_type": "code",
        "colab": {}
      },
      "source": [
        "class Div(Expr):\n",
        "  def __init__(self,n,d):\n",
        "    self.n = n\n",
        "    self.d = d\n",
        "  def __str__(self):\n",
        "    return \"(\" + str(self.n) + \"/\" + str(self.d) + \")\"\n",
        "  def eval(self,env):\n",
        "    return self.n.eval(env) - self.d.eval(env)"
      ],
      "execution_count": 49,
      "outputs": []
    },
    {
      "cell_type": "code",
      "metadata": {
        "id": "94FlyDO_cPbw",
        "colab_type": "code",
        "colab": {}
      },
      "source": [
        "class Times(Expr):\n",
        "  def __init__(self,l,r):\n",
        "    self.l = l\n",
        "    self.r = r\n",
        "  def __str__(self):\n",
        "    return \"(\" + str(self.l) + \"*\" + str(self.r) + \")\"\n",
        "  def eval(self,env):\n",
        "    return self.l.eval(env) * self.r.eval(env)"
      ],
      "execution_count": 50,
      "outputs": []
    },
    {
      "cell_type": "code",
      "metadata": {
        "id": "5iK9dGfucRuy",
        "colab_type": "code",
        "colab": {}
      },
      "source": [
        "class Plus(Expr):\n",
        "  def __init__(self,l,r):\n",
        "    self.l = l\n",
        "    self.r = r\n",
        "  def __str__(self):\n",
        "    return \"(\" + str(self.l) + \"+\" + str(self.r) + \")\"\n",
        "  def eval(self,env):\n",
        "    return self.l.eval(env) + self.r.eval(env)"
      ],
      "execution_count": 51,
      "outputs": []
    },
    {
      "cell_type": "code",
      "metadata": {
        "id": "GdJJXOWfcRyS",
        "colab_type": "code",
        "colab": {}
      },
      "source": [
        "class Const(Expr):\n",
        "    def __init__(self,val):\n",
        "      self.val = val\n",
        "    def __str__(self):\n",
        "      return str(self.val)\n",
        "    def eval(self,env):\n",
        "      return self.val"
      ],
      "execution_count": 52,
      "outputs": []
    },
    {
      "cell_type": "code",
      "metadata": {
        "id": "zmcm1p07cR3-",
        "colab_type": "code",
        "colab": {}
      },
      "source": [
        "class Var(Expr):\n",
        "  def __init__(self,name):\n",
        "    self.name = name\n",
        "  def __str__(self):\n",
        "    return str(self.name)\n",
        "  def eval(self,env):\n",
        "    return env[self.name]"
      ],
      "execution_count": 53,
      "outputs": []
    },
    {
      "cell_type": "code",
      "metadata": {
        "id": "QmXtMQXDcR1Y",
        "colab_type": "code",
        "colab": {
          "base_uri": "https://localhost:8080/",
          "height": 34
        },
        "outputId": "74d63a11-b4f3-453a-f042-4d1db4779ec2"
      },
      "source": [
        "e1 = Times(Const(3),Plus(Var(\"y\"),Var(\"x\")))\n",
        "print(e1)"
      ],
      "execution_count": 54,
      "outputs": [
        {
          "output_type": "stream",
          "text": [
            "(3*(y+x))\n"
          ],
          "name": "stdout"
        }
      ]
    },
    {
      "cell_type": "code",
      "metadata": {
        "id": "TgwVVndje6Dp",
        "colab_type": "code",
        "colab": {
          "base_uri": "https://localhost:8080/",
          "height": 34
        },
        "outputId": "1676b8ec-7982-4221-f376-9a30b51e103e"
      },
      "source": [
        "e2 = Plus(Times(Const(3),Var(\"y\")),Var(\"x\"))\n",
        "print(e2)"
      ],
      "execution_count": 55,
      "outputs": [
        {
          "output_type": "stream",
          "text": [
            "((3*y)+x)\n"
          ],
          "name": "stdout"
        }
      ]
    },
    {
      "cell_type": "code",
      "metadata": {
        "id": "_Gq7Eyo0fNBg",
        "colab_type": "code",
        "colab": {}
      },
      "source": [
        "env = {\"x\" : 2, \"y\" : 4}"
      ],
      "execution_count": 56,
      "outputs": []
    },
    {
      "cell_type": "code",
      "metadata": {
        "id": "zyHg52QAiQnp",
        "colab_type": "code",
        "colab": {
          "base_uri": "https://localhost:8080/",
          "height": 34
        },
        "outputId": "8dd47e1d-553e-464c-890b-a7add0bd03de"
      },
      "source": [
        "e1.eval(env)"
      ],
      "execution_count": 45,
      "outputs": [
        {
          "output_type": "execute_result",
          "data": {
            "text/plain": [
              "18"
            ]
          },
          "metadata": {
            "tags": []
          },
          "execution_count": 45
        }
      ]
    },
    {
      "cell_type": "code",
      "metadata": {
        "id": "IEsueA6Ukbhl",
        "colab_type": "code",
        "colab": {
          "base_uri": "https://localhost:8080/",
          "height": 34
        },
        "outputId": "f9ee9501-fab3-43dd-81b2-73f7a9aa2310"
      },
      "source": [
        "e2.eval(env)"
      ],
      "execution_count": 46,
      "outputs": [
        {
          "output_type": "execute_result",
          "data": {
            "text/plain": [
              "14"
            ]
          },
          "metadata": {
            "tags": []
          },
          "execution_count": 46
        }
      ]
    },
    {
      "cell_type": "code",
      "metadata": {
        "id": "en3bQPjLl0f5",
        "colab_type": "code",
        "colab": {
          "base_uri": "https://localhost:8080/",
          "height": 34
        },
        "outputId": "6aa9f65b-163c-447e-9698-5314fc2faffa"
      },
      "source": [
        "#testing own expression\n",
        "e3 = Times(Plus(Times(Const(2),Var(\"x\")),Var(\"y\")),Exponent((Minus(Var(\"a\"),Times(Const(7),Var(\"b\")))),Const(3)))\n",
        "print(e3)"
      ],
      "execution_count": 59,
      "outputs": [
        {
          "output_type": "stream",
          "text": [
            "(((2*x)+y)*((a-(7*b))^3))\n"
          ],
          "name": "stdout"
        }
      ]
    },
    {
      "cell_type": "code",
      "metadata": {
        "id": "v4hPReRvl1BA",
        "colab_type": "code",
        "colab": {}
      },
      "source": [
        ""
      ],
      "execution_count": 59,
      "outputs": []
    },
    {
      "cell_type": "code",
      "metadata": {
        "id": "-wJjW_Exl0-l",
        "colab_type": "code",
        "colab": {}
      },
      "source": [
        ""
      ],
      "execution_count": null,
      "outputs": []
    }
  ]
}